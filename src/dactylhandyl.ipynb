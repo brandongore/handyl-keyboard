{
 "cells": [
  {
   "cell_type": "code",
   "execution_count": 1,
   "metadata": {},
   "outputs": [
    {
     "name": "stdout",
     "output_type": "stream",
     "text": [
      "Overwriting auto display for cadquery Workplane and Shape\n"
     ]
    }
   ],
   "source": [
    "%load_ext autoreload\n",
    "%reload_ext autoreload\n",
    "%autoreload 2\n",
    "\n",
    "###### import cadquery as cq\n",
    "from cadquery import Wire, Edge\n",
    "from cadquery import selectors\n",
    "from jupyter_cadquery.cadquery import (PartGroup, Part, Edges, Faces, Vertices, show)\n",
    "from jupyter_cadquery import set_sidecar, set_defaults, reset_defaults\n",
    "from cqkit import *\n",
    "\n",
    "import numpy as np\n",
    "from numpy import pi, math\n",
    "import os.path as path\n",
    "\n",
    "from scipy.spatial import ConvexHull as sphull\n",
    "import coreparameters as cp"
   ]
  },
  {
   "cell_type": "code",
   "execution_count": 2,
   "metadata": {},
   "outputs": [
    {
     "name": "stdout",
     "output_type": "stream",
     "text": [
      "model_right()\n",
      "case_walls()\n",
      "right_wall()\n",
      "end of model right\n"
     ]
    },
    {
     "data": {
      "application/vnd.jupyter.widget-view+json": {
       "model_id": "9e58af8211f7467abc1b43e333378bca",
       "version_major": 2,
       "version_minor": 0
      },
      "text/plain": [
       "HBox(children=(VBox(children=(HBox(children=(Checkbox(value=True, description='Axes', indent=False, _dom_class…"
      ]
     },
     "metadata": {},
     "output_type": "display_data"
    },
    {
     "data": {
      "text/plain": [
       "<jupyter_cadquery.cad_display.CadqueryDisplay at 0x1a715f38808>"
      ]
     },
     "execution_count": 2,
     "metadata": {},
     "output_type": "execute_result"
    }
   ],
   "source": [
    "import keycluster as kc\n",
    "mod_r = kc.model_right()\n",
    "\n",
    "assy1 = cq.Assembly().add(mod_r, color=cq.Color(\"yellow\"))\n",
    "\n",
    "show(assy1, grid=True, axes=True, axes0=True, bb_factor=3.5)\n",
    "#mod_r.val().exportStl(fileName=path.join(r\"..\", \"things\", r\"rightkeys_og_py.stl\"))"
   ]
  },
  {
   "cell_type": "code",
   "execution_count": 3,
   "metadata": {},
   "outputs": [
    {
     "data": {
      "application/vnd.jupyter.widget-view+json": {
       "model_id": "de82c93aec694e0393e11ad733caf2b0",
       "version_major": 2,
       "version_minor": 0
      },
      "text/plain": [
       "HBox(children=(VBox(children=(HBox(children=(Checkbox(value=True, description='Axes', indent=False, _dom_class…"
      ]
     },
     "metadata": {},
     "output_type": "display_data"
    },
    {
     "data": {
      "text/plain": [
       "<jupyter_cadquery.cad_display.CadqueryDisplay at 0x1a710658308>"
      ]
     },
     "execution_count": 3,
     "metadata": {},
     "output_type": "execute_result"
    }
   ],
   "source": [
    "show(assy1, grid=True, axes=True, axes0=True, bb_factor=3.5)"
   ]
  },
  {
   "cell_type": "code",
   "execution_count": 4,
   "metadata": {},
   "outputs": [
    {
     "name": "stdout",
     "output_type": "stream",
     "text": [
      "end of thumb right\n"
     ]
    },
    {
     "data": {
      "application/vnd.jupyter.widget-view+json": {
       "model_id": "1247b8fbc4aa4e86993265916b343406",
       "version_major": 2,
       "version_minor": 0
      },
      "text/plain": [
       "HBox(children=(VBox(children=(HBox(children=(Checkbox(value=True, description='Axes', indent=False, _dom_class…"
      ]
     },
     "metadata": {},
     "output_type": "display_data"
    },
    {
     "data": {
      "text/plain": [
       "<jupyter_cadquery.cad_display.CadqueryDisplay at 0x1a719195348>"
      ]
     },
     "execution_count": 4,
     "metadata": {},
     "output_type": "execute_result"
    }
   ],
   "source": [
    "import thumbcluster as tc\n",
    "thumb_r = tc.thumb_right()\n",
    "\n",
    "assy2 = cq.Assembly().add(thumb_r, color=cq.Color(\"yellow\"))\n",
    "\n",
    "show(assy2, grid=True, axes=True, axes0=True, bb_factor=3.5)"
   ]
  },
  {
   "cell_type": "code",
   "execution_count": 5,
   "metadata": {},
   "outputs": [
    {
     "name": "stdout",
     "output_type": "stream",
     "text": [
      "1.0700000000000003\n",
      "end of joystick right\n"
     ]
    },
    {
     "data": {
      "application/vnd.jupyter.widget-view+json": {
       "model_id": "a11fc11fbfa74849a86b5b524fe69f11",
       "version_major": 2,
       "version_minor": 0
      },
      "text/plain": [
       "HBox(children=(VBox(children=(HBox(children=(Checkbox(value=True, description='Axes', indent=False, _dom_class…"
      ]
     },
     "metadata": {},
     "output_type": "display_data"
    },
    {
     "data": {
      "text/plain": [
       "<jupyter_cadquery.cad_display.CadqueryDisplay at 0x1a726639788>"
      ]
     },
     "execution_count": 5,
     "metadata": {},
     "output_type": "execute_result"
    }
   ],
   "source": [
    "import joystick as js\n",
    "joystick_r = js.joystick_right()\n",
    "\n",
    "assy3 = cq.Assembly().add(joystick_r, color=cq.Color(\"yellow\"))\n",
    "\n",
    "show(assy3, grid=True, axes=True, axes0=True, bb_factor=3.5)"
   ]
  },
  {
   "cell_type": "code",
   "execution_count": 6,
   "metadata": {},
   "outputs": [
    {
     "name": "stdout",
     "output_type": "stream",
     "text": [
      "end of display right\n"
     ]
    },
    {
     "data": {
      "application/vnd.jupyter.widget-view+json": {
       "model_id": "a35841f66e2941059092e8e7847023c3",
       "version_major": 2,
       "version_minor": 0
      },
      "text/plain": [
       "HBox(children=(VBox(children=(HBox(children=(Checkbox(value=True, description='Axes', indent=False, _dom_class…"
      ]
     },
     "metadata": {},
     "output_type": "display_data"
    },
    {
     "data": {
      "text/plain": [
       "<jupyter_cadquery.cad_display.CadqueryDisplay at 0x1a727bcba88>"
      ]
     },
     "execution_count": 6,
     "metadata": {},
     "output_type": "execute_result"
    }
   ],
   "source": [
    "import coreparameters as cp\n",
    "import display as ds\n",
    "display_r = ds.display_right()\n",
    "\n",
    "assy12 = cq.Assembly().add(display_r, color=cq.Color(\"yellow\"))\n",
    "\n",
    "show(assy12, grid=True, axes=True, axes0=True, bb_factor=3.5)"
   ]
  },
  {
   "cell_type": "code",
   "execution_count": 7,
   "metadata": {},
   "outputs": [
    {
     "name": "stdout",
     "output_type": "stream",
     "text": [
      "end of display right\n"
     ]
    },
    {
     "data": {
      "application/vnd.jupyter.widget-view+json": {
       "model_id": "b8316714f3994a838c2aaf221d2c6fe0",
       "version_major": 2,
       "version_minor": 0
      },
      "text/plain": [
       "HBox(children=(VBox(children=(HBox(children=(Checkbox(value=True, description='Axes', indent=False, _dom_class…"
      ]
     },
     "metadata": {},
     "output_type": "display_data"
    },
    {
     "data": {
      "text/plain": [
       "<jupyter_cadquery.cad_display.CadqueryDisplay at 0x1a727b22fc8>"
      ]
     },
     "execution_count": 7,
     "metadata": {},
     "output_type": "execute_result"
    }
   ],
   "source": [
    "import display as ds\n",
    "display_r = ds.display_right()\n",
    "\n",
    "assy12 = cq.Assembly().add(display_r, color=cq.Color(\"yellow\"))\n",
    "\n",
    "show(assy12, grid=True, axes=True, axes0=True, bb_factor=3.5)"
   ]
  },
  {
   "cell_type": "code",
   "execution_count": 8,
   "metadata": {},
   "outputs": [],
   "source": [
    "# import display as ds\n",
    "# display_r = ds.display_holder()\n",
    "\n",
    "# assy12 = cq.Assembly().add(display_r, color=cq.Color(\"yellow\"))\n",
    "\n",
    "# show(assy12, grid=True, axes=True, axes0=True, bb_factor=3.5)\n",
    "#display_r.val().exportStl(fileName=path.join(r\"..\", \"things\", r\"display_r_og_py.stl\"))"
   ]
  },
  {
   "cell_type": "code",
   "execution_count": 9,
   "metadata": {},
   "outputs": [
    {
     "data": {
      "application/vnd.jupyter.widget-view+json": {
       "model_id": "81046b9dac6d43ffbfbd9d3d4cc0dddc",
       "version_major": 2,
       "version_minor": 0
      },
      "text/plain": [
       "HBox(children=(VBox(children=(HBox(children=(Checkbox(value=True, description='Axes', indent=False, _dom_class…"
      ]
     },
     "metadata": {},
     "output_type": "display_data"
    },
    {
     "data": {
      "text/plain": [
       "<jupyter_cadquery.cad_display.CadqueryDisplay at 0x1a726885fc8>"
      ]
     },
     "execution_count": 9,
     "metadata": {},
     "output_type": "execute_result"
    }
   ],
   "source": [
    "assy12 = cq.Assembly().add(display_r, color=cq.Color(\"yellow\"))\n",
    "\n",
    "show(assy12, grid=True, axes=True, axes0=True, bb_factor=3.5)"
   ]
  },
  {
   "cell_type": "code",
   "execution_count": 10,
   "metadata": {},
   "outputs": [
    {
     "name": "stdout",
     "output_type": "stream",
     "text": [
      "[0.1, -6.25, -12.0]\n",
      "[-2.5, 8.636363636363635, -1.1]\n",
      "[-10.0, 7.75, -9.0]\n",
      "[-80.0, 6.25, -9.0]\n",
      "[23.75, -25.5, -4.0]\n",
      "[9.25, -17.0, -4.0]\n",
      "thumb_position_single() before [9.25, -17.0, -4.0]\n",
      "thumb_position_single() after [-43.312654119638765, -67.33473639505148, 17.8018400710411]\n",
      "[-43.0, -26.25, -4.0]\n",
      "[0.1, -6.25, -12.0]\n",
      "[-2.5, 8.636363636363635, -1.1]\n",
      "[-10.0, 7.75, -9.0]\n",
      "[-80.0, 6.25, -9.0]\n",
      "[23.75, -25.5, -4.0]\n",
      "[9.25, -17.0, -4.0]\n",
      "thumb_position_single() before [9.25, -17.0, -4.0]\n",
      "thumb_position_single() after [-43.312654119638765, -67.33473639505148, 17.8018400710411]\n",
      "[-43.0, -26.25, -4.0]\n"
     ]
    },
    {
     "data": {
      "application/vnd.jupyter.widget-view+json": {
       "model_id": "cdb0ec57dde64af09e9abfa1ac3daa88",
       "version_major": 2,
       "version_minor": 0
      },
      "text/plain": [
       "HBox(children=(VBox(children=(HBox(children=(Checkbox(value=True, description='Axes', indent=False, _dom_class…"
      ]
     },
     "metadata": {},
     "output_type": "display_data"
    },
    {
     "data": {
      "text/plain": [
       "<jupyter_cadquery.cad_display.CadqueryDisplay at 0x1a727a7f088>"
      ]
     },
     "execution_count": 10,
     "metadata": {},
     "output_type": "execute_result"
    }
   ],
   "source": [
    "import clusterjoin as cj\n",
    "final = cj.final_assembly(mod_r, thumb_r, joystick_r, display_r)\n",
    "\n",
    "assy5 = cq.Assembly().add(final, color=cq.Color(\"yellow\"))\n",
    "\n",
    "show(assy5, grid=True, axes=True, axes0=True, bb_factor=3.5)\n",
    "\n",
    "#final.val().exportStl(fileName=path.join(r\"..\", \"things\", r\"thumb_og_py.stl\"))"
   ]
  },
  {
   "cell_type": "code",
   "execution_count": 11,
   "metadata": {},
   "outputs": [],
   "source": [
    "#final.val().exportStl(fileName=path.join(r\"..\", \"things\", r\"right_final_og_py.stl\"))"
   ]
  },
  {
   "cell_type": "code",
   "execution_count": 12,
   "metadata": {},
   "outputs": [
    {
     "name": "stdout",
     "output_type": "stream",
     "text": [
      "[(26.011564576688148, -91.8966974890281, 25.624936505593123), (18.63657097653437, -90.99467153055546, 30.02378011795366), (11.413978746561217, -88.9366124456845, 34.28504246822893), (4.4889424731898, -85.73015906806576, 38.322661165629064), (-1.9200468372351343, -81.27986891532156, 42.00934595088234), (-7.3600025046159345, -75.35418644098027, 45.09707918640611), (-10.59285746054104, -67.65507684284877, 46.957654865995615), (-9.00276501327749, -59.40714827295163, 46.307442712382944), (-3.198054811623955, -53.83821108593882, 43.39765313117888), (3.965415929251726, -50.91011749079195, 39.60949358645972), (11.460575139765908, -49.78664790016608, 35.48248092327562), (18.959840074296665, -50.04700868913176, 31.212440914255215), (26.29998854540285, -51.50242166383059, 26.90384140309396), (33.37316038626838, -54.104663388664896, 22.621927716580817)]\n",
      "end of palm right\n"
     ]
    },
    {
     "data": {
      "application/vnd.jupyter.widget-view+json": {
       "model_id": "5e81436832634e2b9363f22d1c12655c",
       "version_major": 2,
       "version_minor": 0
      },
      "text/plain": [
       "HBox(children=(VBox(children=(HBox(children=(Checkbox(value=True, description='Axes', indent=False, _dom_class…"
      ]
     },
     "metadata": {},
     "output_type": "display_data"
    },
    {
     "data": {
      "text/plain": [
       "<jupyter_cadquery.cad_display.CadqueryDisplay at 0x1a7284ee808>"
      ]
     },
     "execution_count": 12,
     "metadata": {},
     "output_type": "execute_result"
    }
   ],
   "source": [
    "import palmrest as pr\n",
    "palm_r = pr.palm_right(final)\n",
    "\n",
    "assy4 = cq.Assembly().add(palm_r, color=cq.Color(\"yellow\"))\n",
    "\n",
    "show(assy4, grid=True, axes=True, axes0=True, bb_factor=3.5)"
   ]
  },
  {
   "cell_type": "code",
   "execution_count": 13,
   "metadata": {},
   "outputs": [
    {
     "data": {
      "application/vnd.jupyter.widget-view+json": {
       "model_id": "e6ada01d8a8a4d4a84e4a4c8f1df651c",
       "version_major": 2,
       "version_minor": 0
      },
      "text/plain": [
       "HBox(children=(VBox(children=(HBox(children=(Checkbox(value=True, description='Axes', indent=False, _dom_class…"
      ]
     },
     "metadata": {},
     "output_type": "display_data"
    },
    {
     "data": {
      "text/plain": [
       "<jupyter_cadquery.cad_display.CadqueryDisplay at 0x1a727c58188>"
      ]
     },
     "execution_count": 13,
     "metadata": {},
     "output_type": "execute_result"
    }
   ],
   "source": [
    "assy5 = cq.Assembly().add(final, color=cq.Color(\"yellow\")).add(palm_r, color=cq.Color(\"yellow\"))\n",
    "\n",
    "show(assy5, grid=True, axes=True, axes0=True, bb_factor=3.5)"
   ]
  },
  {
   "cell_type": "code",
   "execution_count": 14,
   "metadata": {},
   "outputs": [
    {
     "data": {
      "application/vnd.jupyter.widget-view+json": {
       "model_id": "d9079add84274e98ae1ee39cf4f7d3c2",
       "version_major": 2,
       "version_minor": 0
      },
      "text/plain": [
       "HBox(children=(VBox(children=(HBox(children=(Checkbox(value=True, description='Axes', indent=False, _dom_class…"
      ]
     },
     "metadata": {},
     "output_type": "display_data"
    },
    {
     "data": {
      "text/plain": [
       "True"
      ]
     },
     "execution_count": 14,
     "metadata": {},
     "output_type": "execute_result"
    }
   ],
   "source": [
    "#screwtest = cj.screw_test()\n",
    "#screwtest = cj.screw_insert_nut_shape(0)\n",
    "screwtest = cq.Workplane('XY').box(5, 100, 5)\n",
    "screwtest = screwtest.union(cq.Workplane('XY').box(100, 5, 5))\n",
    "assy7 = cq.Assembly().add(screwtest, color=cq.Color(\"yellow\"))\n",
    "\n",
    "show(assy7, grid=True, axes=True, axes0=True, bb_factor=3.5)\n",
    "\n",
    "screwtest.val().exportStl(fileName=path.join(r\"..\", \"things\", r\"screw_test_og_py.stl\"))\n",
    "\n",
    "#cq.exporters.export(w=screwtest, fname=path.join(r\"..\", \"things\", r\"screw_test_og_py.stl\"), exportType='STL')"
   ]
  },
  {
   "cell_type": "code",
   "execution_count": 15,
   "metadata": {},
   "outputs": [
    {
     "name": "stdout",
     "output_type": "stream",
     "text": [
      "[0.1, -6.25, -12.0]\n",
      "[-2.5, 8.636363636363635, -1.1]\n",
      "[-10.0, 7.75, -9.0]\n",
      "[-80.0, 6.25, -9.0]\n",
      "[23.75, -25.5, -4.0]\n",
      "[9.25, -17.0, -4.0]\n",
      "thumb_position_single() before [9.25, -17.0, -4.0]\n",
      "thumb_position_single() after [-43.312654119638765, -67.33473639505148, 17.8018400710411]\n",
      "[-43.0, -26.25, -4.0]\n",
      "screw_insert_nut()\n",
      "[0.1, -6.25, -12.0]\n",
      "screw_insert_nut()\n",
      "[-2.5, 8.636363636363635, -1.1]\n",
      "screw_insert_nut()\n",
      "[-10.0, 7.75, -9.0]\n",
      "screw_insert_nut()\n",
      "[-80.0, 6.25, -9.0]\n",
      "screw_insert_nut()\n",
      "[23.75, -25.5, -4.0]\n",
      "screw_insert_nut()\n",
      "[9.25, -17.0, -4.0]\n",
      "thumb_position_single() before [9.25, -17.0, -4.0]\n",
      "thumb_position_single() after [-43.312654119638765, -67.33473639505148, 17.8018400710411]\n",
      "screw_insert_nut()\n",
      "[-43.0, -26.25, -4.0]\n",
      "rj45_cube()\n",
      "mc_cube()\n"
     ]
    },
    {
     "data": {
      "application/vnd.jupyter.widget-view+json": {
       "model_id": "83eab2a61a69448f835a969ef9353166",
       "version_major": 2,
       "version_minor": 0
      },
      "text/plain": [
       "HBox(children=(VBox(children=(HBox(children=(Checkbox(value=True, description='Axes', indent=False, _dom_class…"
      ]
     },
     "metadata": {},
     "output_type": "display_data"
    },
    {
     "data": {
      "text/plain": [
       "<jupyter_cadquery.cad_display.CadqueryDisplay at 0x1a727d80e08>"
      ]
     },
     "execution_count": 15,
     "metadata": {},
     "output_type": "execute_result"
    }
   ],
   "source": [
    "final_processed = cj.final_assembly_processed(final)\n",
    "\n",
    "assy7 = cq.Assembly().add(final_processed, color=cq.Color(\"yellow\"))\n",
    "\n",
    "show(assy7, grid=True, axes=True, axes0=True, bb_factor=3.5)"
   ]
  },
  {
   "cell_type": "code",
   "execution_count": 16,
   "metadata": {},
   "outputs": [
    {
     "data": {
      "text/plain": [
       "True"
      ]
     },
     "execution_count": 16,
     "metadata": {},
     "output_type": "execute_result"
    }
   ],
   "source": [
    "final_processed.val().exportStl(fileName=path.join(r\"..\", \"things\", r\"right_og_py.stl\"))"
   ]
  },
  {
   "cell_type": "code",
   "execution_count": 17,
   "metadata": {},
   "outputs": [
    {
     "data": {
      "application/vnd.jupyter.widget-view+json": {
       "model_id": "67a08288624d46aa8628c4f428dcff26",
       "version_major": 2,
       "version_minor": 0
      },
      "text/plain": [
       "HBox(children=(VBox(children=(HBox(children=(Checkbox(value=True, description='Axes', indent=False, _dom_class…"
      ]
     },
     "metadata": {},
     "output_type": "display_data"
    },
    {
     "data": {
      "text/plain": [
       "<jupyter_cadquery.cad_display.CadqueryDisplay at 0x1a727d89448>"
      ]
     },
     "execution_count": 17,
     "metadata": {},
     "output_type": "execute_result"
    }
   ],
   "source": [
    "\n",
    "import display as ds\n",
    "display_r_screw_holder = ds.display_screw_holder()\n",
    "\n",
    "assy12 = cq.Assembly().add(display_r_screw_holder, color=cq.Color(\"yellow\"))\n",
    "\n",
    "show(assy12, grid=True, axes=True, axes0=True, bb_factor=3.5)"
   ]
  },
  {
   "cell_type": "code",
   "execution_count": 18,
   "metadata": {},
   "outputs": [
    {
     "name": "stdout",
     "output_type": "stream",
     "text": [
      "mc_cube()\n"
     ]
    },
    {
     "data": {
      "application/vnd.jupyter.widget-view+json": {
       "model_id": "994d686923344f1e9396299a7bec5e63",
       "version_major": 2,
       "version_minor": 0
      },
      "text/plain": [
       "HBox(children=(VBox(children=(HBox(children=(Checkbox(value=True, description='Axes', indent=False, _dom_class…"
      ]
     },
     "metadata": {},
     "output_type": "display_data"
    },
    {
     "data": {
      "text/plain": [
       "<jupyter_cadquery.cad_display.CadqueryDisplay at 0x1a72b857648>"
      ]
     },
     "execution_count": 18,
     "metadata": {},
     "output_type": "execute_result"
    }
   ],
   "source": [
    "mcholder_r = cj.micro_controller_holder()\n",
    "\n",
    "assy9 = cq.Assembly().add(mcholder_r, color=cq.Color(\"yellow\"))\n",
    "\n",
    "show(assy9, grid=True, axes=True, axes0=True, bb_factor=3.5)\n",
    "\n",
    "#mcholder_r.val().exportStl(fileName=path.join(r\"..\", \"things\", r\"mcholder_r_og_py.stl\"))"
   ]
  },
  {
   "cell_type": "code",
   "execution_count": 19,
   "metadata": {},
   "outputs": [
    {
     "name": "stdout",
     "output_type": "stream",
     "text": [
      "rj45_holder()\n",
      "rj45_cube()\n"
     ]
    },
    {
     "data": {
      "application/vnd.jupyter.widget-view+json": {
       "model_id": "5e837d7aad964a2090cd642656765b9f",
       "version_major": 2,
       "version_minor": 0
      },
      "text/plain": [
       "HBox(children=(VBox(children=(HBox(children=(Checkbox(value=True, description='Axes', indent=False, _dom_class…"
      ]
     },
     "metadata": {},
     "output_type": "display_data"
    },
    {
     "data": {
      "text/plain": [
       "<jupyter_cadquery.cad_display.CadqueryDisplay at 0x1a727fb1a48>"
      ]
     },
     "execution_count": 19,
     "metadata": {},
     "output_type": "execute_result"
    }
   ],
   "source": [
    "rj45_r = cj.rj45_holder()\n",
    "# cube = cq.Workplane(\"XY\").box(20,60,15)\n",
    "\n",
    "# cube2 = cq.Workplane(\"XY\").box(20,60,15)\n",
    "# cube2 = cube.translate((0, 0, 41))\n",
    "\n",
    "# cube3 = cq.Workplane(\"XY\").box(20,10,90)\n",
    "# cube3 = cube3.translate((0, -13, 0))\n",
    "\n",
    "# rj45_r = rj45_r.cut(cube) \n",
    "# rj45_r = rj45_r.cut(cube2)\n",
    "# rj45_r = rj45_r.cut(cube3)\n",
    "\n",
    "assy8 = cq.Assembly().add(rj45_r, color=cq.Color(\"yellow\"))\n",
    "\n",
    "show(assy8, grid=True, axes=True, axes0=True, bb_factor=3.5)\n",
    "\n",
    "#rj45_r.val().exportStl(fileName=path.join(r\"..\", \"things\", r\"rj45_r_og_py.stl\"))"
   ]
  },
  {
   "cell_type": "code",
   "execution_count": 20,
   "metadata": {},
   "outputs": [
    {
     "name": "stdout",
     "output_type": "stream",
     "text": [
      "rj45_cube()\n",
      "mc_cube()\n"
     ]
    },
    {
     "data": {
      "application/vnd.jupyter.widget-view+json": {
       "model_id": "74c0dd3b6ebe4288972d74fbb13d86c5",
       "version_major": 2,
       "version_minor": 0
      },
      "text/plain": [
       "HBox(children=(VBox(children=(HBox(children=(Checkbox(value=True, description='Axes', indent=False, _dom_class…"
      ]
     },
     "metadata": {},
     "output_type": "display_data"
    },
    {
     "data": {
      "text/plain": [
       "True"
      ]
     },
     "execution_count": 20,
     "metadata": {},
     "output_type": "execute_result"
    }
   ],
   "source": [
    "import clusterjoin as cj\n",
    "connector_r = cj.connector_cube()\n",
    "connector_r = connector_r.cut(cj.rj45_cutter())\n",
    "connector_r = connector_r.cut(cj.micro_controller_cutter())\n",
    "\n",
    "assy8 = cq.Assembly().add(connector_r, color=cq.Color(\"yellow\"))\n",
    "\n",
    "#connector_r = cj.micro_controller_cutter()\n",
    "\n",
    "reset_holder_r = cj.micro_controller_reset_holder()\n",
    "#assy8 = cq.Assembly().add(reset_holder_r, color=cq.Color(\"yellow\"))\n",
    "\n",
    "show(assy8, grid=True, axes=True, axes0=True, bb_factor=3.5)\n",
    "\n",
    "\n",
    "#reset_holder_r.val().exportStl(fileName=path.join(r\"..\", \"things\", r\"reset_holder_r_og_py.stl\"))\n",
    "connector_r.val().exportStl(fileName=path.join(r\"..\", \"things\", r\"connector_r_og_py.stl\"))"
   ]
  },
  {
   "cell_type": "code",
   "execution_count": 21,
   "metadata": {},
   "outputs": [
    {
     "name": "stdout",
     "output_type": "stream",
     "text": [
      "<cadquery.cq.Workplane object at 0x000001A728199C88>\n"
     ]
    },
    {
     "data": {
      "application/vnd.jupyter.widget-view+json": {
       "model_id": "887a8c0cd00744fca28446f04c0ed8c0",
       "version_major": 2,
       "version_minor": 0
      },
      "text/plain": [
       "HBox(children=(VBox(children=(HBox(children=(Checkbox(value=True, description='Axes', indent=False, _dom_class…"
      ]
     },
     "metadata": {},
     "output_type": "display_data"
    },
    {
     "data": {
      "text/plain": [
       "<jupyter_cadquery.cad_display.CadqueryDisplay at 0x1a728168348>"
      ]
     },
     "execution_count": 21,
     "metadata": {},
     "output_type": "execute_result"
    }
   ],
   "source": [
    "import bottomplate as bp\n",
    "bottom_plate_r = bp.bottom_plate_right(final)\n",
    "\n",
    "assy6 = cq.Assembly().add(bottom_plate_r, color=cq.Color(\"yellow\"))\n",
    "\n",
    "show(assy6, grid=True, axes=True, axes0=True, bb_factor=3.5)"
   ]
  },
  {
   "cell_type": "code",
   "execution_count": 22,
   "metadata": {},
   "outputs": [
    {
     "name": "stdout",
     "output_type": "stream",
     "text": [
      "[0.1, -6.25, -12.0]\n",
      "[-2.5, 8.636363636363635, -1.1]\n",
      "[-10.0, 7.75, -9.0]\n",
      "[-80.0, 6.25, -9.0]\n",
      "[23.75, -25.5, -4.0]\n",
      "[9.25, -17.0, -4.0]\n",
      "thumb_position_single() before [9.25, -17.0, -4.0]\n",
      "thumb_position_single() after [-43.312654119638765, -67.33473639505148, 17.8018400710411]\n",
      "[-43.0, -26.25, -4.0]\n"
     ]
    },
    {
     "data": {
      "application/vnd.jupyter.widget-view+json": {
       "model_id": "2e6fcd973893422691843fb2bc0fb1b2",
       "version_major": 2,
       "version_minor": 0
      },
      "text/plain": [
       "HBox(children=(VBox(children=(HBox(children=(Checkbox(value=True, description='Axes', indent=False, _dom_class…"
      ]
     },
     "metadata": {},
     "output_type": "display_data"
    },
    {
     "data": {
      "text/plain": [
       "<jupyter_cadquery.cad_display.CadqueryDisplay at 0x1a7281e4348>"
      ]
     },
     "execution_count": 22,
     "metadata": {},
     "output_type": "execute_result"
    }
   ],
   "source": [
    "import clusterjoin as cj\n",
    "bottom_plate_r_processed = cj.bottom_plate_processed(bottom_plate_r)\n",
    "\n",
    "assy6 = cq.Assembly().add(bottom_plate_r_processed, color=cq.Color(\"yellow\"))\n",
    "\n",
    "show(assy6, grid=True, axes=True, axes0=True, bb_factor=3.5)"
   ]
  },
  {
   "cell_type": "code",
   "execution_count": 23,
   "metadata": {},
   "outputs": [],
   "source": [
    "#cq.exporters.export(w=mod_r, fname=path.join(r\"..\", \"things\", r\"right_og_py.stl\"), exportType='STL')"
   ]
  },
  {
   "cell_type": "code",
   "execution_count": 24,
   "metadata": {},
   "outputs": [],
   "source": [
    "#cq.exporters.export(w=thumb_r, fname=path.join(r\"..\", \"things\", r\"thumb_og_py.stl\"), exportType='STL')"
   ]
  },
  {
   "cell_type": "code",
   "execution_count": 25,
   "metadata": {},
   "outputs": [],
   "source": [
    "#cq.exporters.export(w=palm_r, fname=path.join(r\"..\", \"things\", r\"palm_og_py.stl\"), exportType='STL')"
   ]
  },
  {
   "cell_type": "code",
   "execution_count": 26,
   "metadata": {},
   "outputs": [],
   "source": [
    "#cq.exporters.export(w=final_processed, fname=path.join(r\"..\", \"things\", r\"right_og_py.stl\"), exportType='STL')"
   ]
  },
  {
   "cell_type": "code",
   "execution_count": 27,
   "metadata": {},
   "outputs": [],
   "source": [
    "#cq.exporters.export(w=baseplate_r, fname=path.join(r\"..\", \"things\", r\"bottomplate_og_py.stl\"), exportType='STL')"
   ]
  }
 ],
 "metadata": {
  "interpreter": {
   "hash": "467da96909c21b180f158be5d5be7bfb750c9cdfe35c9f0cbeaf7fce1a2f84df"
  },
  "kernelspec": {
   "display_name": "Python 3.7.10 64-bit ('cq21-jl3': conda)",
   "name": "python3"
  },
  "language_info": {
   "codemirror_mode": {
    "name": "ipython",
    "version": 3
   },
   "file_extension": ".py",
   "mimetype": "text/x-python",
   "name": "python",
   "nbconvert_exporter": "python",
   "pygments_lexer": "ipython3",
   "version": "3.7.10"
  }
 },
 "nbformat": 4,
 "nbformat_minor": 4
}